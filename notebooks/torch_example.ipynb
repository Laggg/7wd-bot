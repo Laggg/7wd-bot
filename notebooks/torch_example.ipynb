{
 "cells": [
  {
   "cell_type": "code",
   "execution_count": 1,
   "id": "e1316f5d-68e6-499c-8621-e7df3570f2d0",
   "metadata": {},
   "outputs": [],
   "source": [
    "import sys\n",
    "sys.path.insert(0, '..')\n",
    "sys.path.insert(0, '../../7wd-engine/')"
   ]
  },
  {
   "cell_type": "code",
   "execution_count": 2,
   "id": "7bb6529f-ae09-4675-af14-a14ea0b63e48",
   "metadata": {},
   "outputs": [],
   "source": [
    "import pickle\n",
    "import torch\n",
    "import torch.nn as nn\n",
    "import torch.nn.functional as F\n",
    "import torch.optim as optim\n",
    "from torch.utils.data import Dataset, DataLoader\n",
    "from swd_bot.state_features import StateFeatures\n",
    "from swd.entity_manager import EntityManager"
   ]
  },
  {
   "cell_type": "code",
   "execution_count": 3,
   "id": "8013508b-a94c-4196-b107-6ec813438ba2",
   "metadata": {},
   "outputs": [],
   "source": [
    "CARDS_COUNT = EntityManager.cards_count()"
   ]
  },
  {
   "cell_type": "code",
   "execution_count": 4,
   "id": "783d1eba-11b9-419a-9971-14ff7ee4dd6b",
   "metadata": {},
   "outputs": [],
   "source": [
    "class StatesDataset(Dataset):\n",
    "    def __init__(self, states, actions):\n",
    "        self.states = states\n",
    "        self.actions = actions\n",
    "    \n",
    "    def __len__(self):\n",
    "        return len(self.states)\n",
    "    \n",
    "    def __getitem__(self, index):\n",
    "        state = self.states[index]\n",
    "        action = self.actions[index]\n",
    "        features = torch.tensor(flatten_features(StateFeatures.extract_state_features_dict(state)), dtype=torch.float)\n",
    "        action_id = action.card_id + (0 if str(action)[0] == \"B\" else CARDS_COUNT)\n",
    "        return features, torch.tensor(action_id, dtype=torch.long)"
   ]
  },
  {
   "cell_type": "code",
   "execution_count": 5,
   "id": "9a7a6d00-2414-4ede-b150-e749c8c15bc8",
   "metadata": {},
   "outputs": [],
   "source": [
    "def flatten_features(x):\n",
    "    output = []\n",
    "    output.append(x[\"age\"])\n",
    "    output.append(x[\"current_player\"])\n",
    "    output.extend(x[\"tokens\"])\n",
    "    output.append(x[\"military_pawn\"])\n",
    "    output.extend(x[\"military_tokens\"])\n",
    "    output.append(x[\"game_status\"])\n",
    "    for i in range(2):\n",
    "        output.append(x[\"players\"][i][\"coins\"])\n",
    "        output.extend(x[\"players\"][i][\"unbuilt_wonders\"])\n",
    "        output.extend(x[\"players\"][i][\"bonuses\"])\n",
    "    for card_id in x[\"cards_board\"]:\n",
    "        ohe = [0] * CARDS_COUNT\n",
    "        if card_id >= 0:\n",
    "            ohe[card_id] = 1\n",
    "            # output.extend(EntityManager.card(card_id).bonuses)\n",
    "        # else:\n",
    "            # output.extend([0] * len(EntityManager.card(0).bonuses))\n",
    "        output.extend(ohe)\n",
    "    return output"
   ]
  },
  {
   "cell_type": "code",
   "execution_count": 6,
   "id": "d9869c3b-10ac-49aa-895a-7c23d82f9fdc",
   "metadata": {},
   "outputs": [],
   "source": [
    "with open(\"states.pkl\", \"rb\") as f:\n",
    "    states = pickle.load(f)\n",
    "with open(\"actions.pkl\", \"rb\") as f:\n",
    "    actions = pickle.load(f)\n",
    "dataset = StatesDataset(states, actions)\n",
    "train_size = int(len(dataset) * 0.8)\n",
    "test_size = len(dataset) - train_size\n",
    "train_dataset, test_dataset = torch.utils.data.random_split(dataset, [train_size, test_size])"
   ]
  },
  {
   "cell_type": "code",
   "execution_count": 16,
   "id": "90bc38db-b58c-466d-bd31-e40abb59115b",
   "metadata": {},
   "outputs": [],
   "source": [
    "class Net(nn.Module):\n",
    "    def __init__(self, in_features: int):\n",
    "        super().__init__()\n",
    "        \n",
    "        self.linear1 = nn.Linear(in_features, 300)\n",
    "        self.linear2 = nn.Linear(300, CARDS_COUNT * 2)\n",
    "    \n",
    "    def forward(self, x):\n",
    "        x = F.relu(self.linear1(x))\n",
    "        x = F.softmax(self.linear2(x), dim=1)\n",
    "        return x"
   ]
  },
  {
   "cell_type": "code",
   "execution_count": 17,
   "id": "e75099d4-de83-4b96-9019-e9adcfb050eb",
   "metadata": {},
   "outputs": [
    {
     "data": {
      "text/plain": [
       "1622"
      ]
     },
     "execution_count": 17,
     "metadata": {},
     "output_type": "execute_result"
    }
   ],
   "source": [
    "features_number = len(dataset[0][0])\n",
    "features_number"
   ]
  },
  {
   "cell_type": "code",
   "execution_count": 18,
   "id": "a7b87184-73b0-4297-be61-38109e724b63",
   "metadata": {},
   "outputs": [
    {
     "data": {
      "text/plain": [
       "device(type='cpu')"
      ]
     },
     "execution_count": 18,
     "metadata": {},
     "output_type": "execute_result"
    }
   ],
   "source": [
    "device = torch.device(\"cuda\" if torch.cuda.is_available() else \"cpu\")\n",
    "device"
   ]
  },
  {
   "cell_type": "code",
   "execution_count": 19,
   "id": "28b3cad7-4874-47f1-8285-64e08024ad2b",
   "metadata": {},
   "outputs": [],
   "source": [
    "model = Net(features_number).to(device)"
   ]
  },
  {
   "cell_type": "code",
   "execution_count": 20,
   "id": "cbefc9a4-fbf0-4418-ad5d-3a5f61f40003",
   "metadata": {},
   "outputs": [],
   "source": [
    "criterion = nn.CrossEntropyLoss()\n",
    "optimizer = optim.Adam(model.parameters(), lr=0.001)\n",
    "batch_size = 256"
   ]
  },
  {
   "cell_type": "code",
   "execution_count": 21,
   "id": "1c30cae7-7115-4928-b3e8-782ea0f95bdc",
   "metadata": {},
   "outputs": [],
   "source": [
    "train_loader = torch.utils.data.DataLoader(train_dataset,\n",
    "                                           batch_size=batch_size,\n",
    "                                           shuffle=True,\n",
    "                                           drop_last=True,\n",
    "                                           num_workers=0)\n",
    "val_loader = torch.utils.data.DataLoader(test_dataset,\n",
    "                                         batch_size=batch_size,\n",
    "                                         shuffle=False,\n",
    "                                         drop_last=False,\n",
    "                                         num_workers=0)"
   ]
  },
  {
   "cell_type": "code",
   "execution_count": 22,
   "id": "09d4bbc5-ad49-4040-ac42-39c7de832f6b",
   "metadata": {
    "tags": []
   },
   "outputs": [
    {
     "name": "stdout",
     "output_type": "stream",
     "text": [
      "[1] loss: 4.897, Accuracy: 15%\n",
      "[2] loss: 4.837, Accuracy: 18%\n",
      "[3] loss: 4.806, Accuracy: 20%\n",
      "[4] loss: 4.780, Accuracy: 23%\n",
      "[5] loss: 4.759, Accuracy: 25%\n",
      "[6] loss: 4.739, Accuracy: 26%\n",
      "[7] loss: 4.727, Accuracy: 27%\n",
      "[8] loss: 4.712, Accuracy: 28%\n",
      "[9] loss: 4.701, Accuracy: 28%\n",
      "[10] loss: 4.694, Accuracy: 29%\n",
      "Finished Training\n"
     ]
    }
   ],
   "source": [
    "for epoch in range(10):\n",
    "    running_loss = 0.0\n",
    "    count = 0\n",
    "    for i, data in enumerate(train_loader):\n",
    "        inputs, labels = data\n",
    "        \n",
    "        optimizer.zero_grad()\n",
    "\n",
    "        outputs = model(inputs.to(device))\n",
    "        loss = criterion(outputs, labels.to(device))\n",
    "        loss.backward()\n",
    "        optimizer.step()\n",
    "\n",
    "        running_loss += loss.item()\n",
    "        count += 1\n",
    "\n",
    "    with torch.no_grad():\n",
    "        correct_pred = 0\n",
    "        total_pred = 0\n",
    "        for i, data in enumerate(val_loader):\n",
    "            inputs, labels = data\n",
    "            labels = labels.to(device)\n",
    "\n",
    "            outputs = model(inputs.to(device))\n",
    "            _, predictions = torch.max(outputs, 1)\n",
    "            for label, prediction in zip(labels, predictions.to(device)):\n",
    "                if label == prediction:\n",
    "                    correct_pred += 1\n",
    "                total_pred += 1\n",
    "\n",
    "    print(f'[{epoch + 1}] loss: {running_loss / count:.3f}, Accuracy: {round(100 * correct_pred / total_pred)}%')\n",
    "    running_loss = 0.0\n",
    "    count = 0\n",
    "\n",
    "print('Finished Training')"
   ]
  },
  {
   "cell_type": "code",
   "execution_count": null,
   "id": "baca7031-4981-43ef-b917-7e4fc02e54cf",
   "metadata": {},
   "outputs": [],
   "source": []
  }
 ],
 "metadata": {
  "kernelspec": {
   "display_name": "Python 3 (ipykernel)",
   "language": "python",
   "name": "python3"
  },
  "language_info": {
   "codemirror_mode": {
    "name": "ipython",
    "version": 3
   },
   "file_extension": ".py",
   "mimetype": "text/x-python",
   "name": "python",
   "nbconvert_exporter": "python",
   "pygments_lexer": "ipython3",
   "version": "3.9.9"
  }
 },
 "nbformat": 4,
 "nbformat_minor": 5
}
